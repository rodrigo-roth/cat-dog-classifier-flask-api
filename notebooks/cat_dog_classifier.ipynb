{
 "cells": [
  {
   "cell_type": "markdown",
   "metadata": {},
   "source": [
    "# Importing the libraries\n",
    "#importing the libraries to use in the Data Processing"
   ]
  },
  {
   "cell_type": "code",
   "execution_count": 1,
   "metadata": {
    "scrolled": true
   },
   "outputs": [
    {
     "name": "stderr",
     "output_type": "stream",
     "text": [
      "Using TensorFlow backend.\n",
      "/home/rodrigo/anaconda3/envs/cuda/lib/python3.7/site-packages/tensorflow/python/framework/dtypes.py:516: FutureWarning: Passing (type, 1) or '1type' as a synonym of type is deprecated; in a future version of numpy, it will be understood as (type, (1,)) / '(1,)type'.\n",
      "  _np_qint8 = np.dtype([(\"qint8\", np.int8, 1)])\n",
      "/home/rodrigo/anaconda3/envs/cuda/lib/python3.7/site-packages/tensorflow/python/framework/dtypes.py:517: FutureWarning: Passing (type, 1) or '1type' as a synonym of type is deprecated; in a future version of numpy, it will be understood as (type, (1,)) / '(1,)type'.\n",
      "  _np_quint8 = np.dtype([(\"quint8\", np.uint8, 1)])\n",
      "/home/rodrigo/anaconda3/envs/cuda/lib/python3.7/site-packages/tensorflow/python/framework/dtypes.py:518: FutureWarning: Passing (type, 1) or '1type' as a synonym of type is deprecated; in a future version of numpy, it will be understood as (type, (1,)) / '(1,)type'.\n",
      "  _np_qint16 = np.dtype([(\"qint16\", np.int16, 1)])\n",
      "/home/rodrigo/anaconda3/envs/cuda/lib/python3.7/site-packages/tensorflow/python/framework/dtypes.py:519: FutureWarning: Passing (type, 1) or '1type' as a synonym of type is deprecated; in a future version of numpy, it will be understood as (type, (1,)) / '(1,)type'.\n",
      "  _np_quint16 = np.dtype([(\"quint16\", np.uint16, 1)])\n",
      "/home/rodrigo/anaconda3/envs/cuda/lib/python3.7/site-packages/tensorflow/python/framework/dtypes.py:520: FutureWarning: Passing (type, 1) or '1type' as a synonym of type is deprecated; in a future version of numpy, it will be understood as (type, (1,)) / '(1,)type'.\n",
      "  _np_qint32 = np.dtype([(\"qint32\", np.int32, 1)])\n",
      "/home/rodrigo/anaconda3/envs/cuda/lib/python3.7/site-packages/tensorflow/python/framework/dtypes.py:525: FutureWarning: Passing (type, 1) or '1type' as a synonym of type is deprecated; in a future version of numpy, it will be understood as (type, (1,)) / '(1,)type'.\n",
      "  np_resource = np.dtype([(\"resource\", np.ubyte, 1)])\n",
      "/home/rodrigo/anaconda3/envs/cuda/lib/python3.7/site-packages/tensorboard/compat/tensorflow_stub/dtypes.py:541: FutureWarning: Passing (type, 1) or '1type' as a synonym of type is deprecated; in a future version of numpy, it will be understood as (type, (1,)) / '(1,)type'.\n",
      "  _np_qint8 = np.dtype([(\"qint8\", np.int8, 1)])\n",
      "/home/rodrigo/anaconda3/envs/cuda/lib/python3.7/site-packages/tensorboard/compat/tensorflow_stub/dtypes.py:542: FutureWarning: Passing (type, 1) or '1type' as a synonym of type is deprecated; in a future version of numpy, it will be understood as (type, (1,)) / '(1,)type'.\n",
      "  _np_quint8 = np.dtype([(\"quint8\", np.uint8, 1)])\n",
      "/home/rodrigo/anaconda3/envs/cuda/lib/python3.7/site-packages/tensorboard/compat/tensorflow_stub/dtypes.py:543: FutureWarning: Passing (type, 1) or '1type' as a synonym of type is deprecated; in a future version of numpy, it will be understood as (type, (1,)) / '(1,)type'.\n",
      "  _np_qint16 = np.dtype([(\"qint16\", np.int16, 1)])\n",
      "/home/rodrigo/anaconda3/envs/cuda/lib/python3.7/site-packages/tensorboard/compat/tensorflow_stub/dtypes.py:544: FutureWarning: Passing (type, 1) or '1type' as a synonym of type is deprecated; in a future version of numpy, it will be understood as (type, (1,)) / '(1,)type'.\n",
      "  _np_quint16 = np.dtype([(\"quint16\", np.uint16, 1)])\n",
      "/home/rodrigo/anaconda3/envs/cuda/lib/python3.7/site-packages/tensorboard/compat/tensorflow_stub/dtypes.py:545: FutureWarning: Passing (type, 1) or '1type' as a synonym of type is deprecated; in a future version of numpy, it will be understood as (type, (1,)) / '(1,)type'.\n",
      "  _np_qint32 = np.dtype([(\"qint32\", np.int32, 1)])\n",
      "/home/rodrigo/anaconda3/envs/cuda/lib/python3.7/site-packages/tensorboard/compat/tensorflow_stub/dtypes.py:550: FutureWarning: Passing (type, 1) or '1type' as a synonym of type is deprecated; in a future version of numpy, it will be understood as (type, (1,)) / '(1,)type'.\n",
      "  np_resource = np.dtype([(\"resource\", np.ubyte, 1)])\n"
     ]
    }
   ],
   "source": [
    "from keras.preprocessing.image import ImageDataGenerator\n",
    "from sklearn.model_selection import train_test_split\n",
    "from tensorflow.python.client import device_lib \n",
    "from keras.callbacks import ModelCheckpoint\n",
    "from keras.callbacks import EarlyStopping\n",
    "from keras.preprocessing import image\n",
    "from keras.layers import Dense\n",
    "import tensorflow as tf\n",
    "import numpy as np"
   ]
  },
  {
   "cell_type": "markdown",
   "metadata": {},
   "source": [
    "# -Data Processing\n",
    "#Preparing the images that will be used in the CNN"
   ]
  },
  {
   "cell_type": "markdown",
   "metadata": {},
   "source": [
    "# Preprocessing the Training Set"
   ]
  },
  {
   "cell_type": "code",
   "execution_count": 2,
   "metadata": {},
   "outputs": [],
   "source": [
    "train_datagen = ImageDataGenerator(validation_split = 0.3, rescale = 1./255,shear_range = 0.2,zoom_range = 0.2, horizontal_flip = True, rotation_range = 20, width_shift_range = 0.2, height_shift_range = 0.2, fill_mode = 'nearest')"
   ]
  },
  {
   "cell_type": "code",
   "execution_count": 3,
   "metadata": {},
   "outputs": [
    {
     "name": "stdout",
     "output_type": "stream",
     "text": [
      "Found 17499 images belonging to 2 classes.\n"
     ]
    }
   ],
   "source": [
    "training_set = train_datagen.flow_from_directory(\"/home/rodrigo/Roit/Teste/teste_roit_corrigido/cachorro_gato_dataset/PetImages/\", target_size = (64, 64), shuffle = True, class_mode = 'binary', batch_size = 32, subset = \"training\")"
   ]
  },
  {
   "cell_type": "markdown",
   "metadata": {},
   "source": [
    "# Preprocessing the Test Set"
   ]
  },
  {
   "cell_type": "code",
   "execution_count": 4,
   "metadata": {},
   "outputs": [
    {
     "name": "stdout",
     "output_type": "stream",
     "text": [
      "Found 7498 images belonging to 2 classes.\n"
     ]
    }
   ],
   "source": [
    "test_datagen = ImageDataGenerator(validation_split = 0.3, rescale = 1./255)\n",
    "test_set = test_datagen.flow_from_directory('/home/rodrigo/Roit/Teste/teste_roit_corrigido/cachorro_gato_dataset/PetImages/', target_size = (64, 64), batch_size = 32, class_mode = 'binary', subset = \"validation\")"
   ]
  },
  {
   "cell_type": "markdown",
   "metadata": {},
   "source": [
    "# -Building the CNN\n",
    "#Building the architecture of the CNN, adding the layers, pooling, adding the second cnn layer, flattening the results of all the cnn's and poolings into one dimensional vector, which will become the input of a fully conected neural network and finally conect all this to the final output layer."
   ]
  },
  {
   "cell_type": "markdown",
   "metadata": {},
   "source": [
    "# Initialising the CNN"
   ]
  },
  {
   "cell_type": "code",
   "execution_count": 5,
   "metadata": {},
   "outputs": [],
   "source": [
    "cnn = tf.keras.models.Sequential()"
   ]
  },
  {
   "cell_type": "markdown",
   "metadata": {},
   "source": [
    "# Convolutional Neural Network"
   ]
  },
  {
   "cell_type": "code",
   "execution_count": 6,
   "metadata": {},
   "outputs": [
    {
     "name": "stdout",
     "output_type": "stream",
     "text": [
      "WARNING:tensorflow:From /home/rodrigo/anaconda3/envs/cuda/lib/python3.7/site-packages/tensorflow/python/ops/init_ops.py:1251: calling VarianceScaling.__init__ (from tensorflow.python.ops.init_ops) with dtype is deprecated and will be removed in a future version.\n",
      "Instructions for updating:\n",
      "Call initializer instance with the dtype argument instead of passing it to the constructor\n"
     ]
    }
   ],
   "source": [
    "cnn.add(tf.keras.layers.Conv2D(filters = 32, kernel_size = 3, activation = 'relu', input_shape = [64, 64, 3]))"
   ]
  },
  {
   "cell_type": "markdown",
   "metadata": {},
   "source": [
    "# Pooling"
   ]
  },
  {
   "cell_type": "code",
   "execution_count": 7,
   "metadata": {},
   "outputs": [],
   "source": [
    "cnn.add(tf.keras.layers.MaxPool2D(pool_size = 2, strides = 2))"
   ]
  },
  {
   "cell_type": "markdown",
   "metadata": {},
   "source": [
    "# Adding a second convolutional layer"
   ]
  },
  {
   "cell_type": "code",
   "execution_count": 8,
   "metadata": {},
   "outputs": [],
   "source": [
    "cnn.add(tf.keras.layers.Conv2D(filters = 32, kernel_size = 3, activation = 'relu'))\n",
    "cnn.add(tf.keras.layers.MaxPool2D(pool_size = 2, strides = 2))"
   ]
  },
  {
   "cell_type": "markdown",
   "metadata": {},
   "source": [
    "# Flattening"
   ]
  },
  {
   "cell_type": "code",
   "execution_count": 9,
   "metadata": {},
   "outputs": [],
   "source": [
    "cnn.add(tf.keras.layers.Flatten())"
   ]
  },
  {
   "cell_type": "markdown",
   "metadata": {},
   "source": [
    "# Full Conection"
   ]
  },
  {
   "cell_type": "code",
   "execution_count": 10,
   "metadata": {},
   "outputs": [],
   "source": [
    "cnn.add(tf.keras.layers.Dense(units = 128, activation = 'relu'))"
   ]
  },
  {
   "cell_type": "markdown",
   "metadata": {},
   "source": [
    "# Output Layer"
   ]
  },
  {
   "cell_type": "code",
   "execution_count": 11,
   "metadata": {},
   "outputs": [],
   "source": [
    "cnn.add(tf.keras.layers.Dense(units = 1, activation = 'sigmoid'))"
   ]
  },
  {
   "cell_type": "markdown",
   "metadata": {},
   "source": [
    "# -Training the CNN\n",
    "#Training the CNN on the Training Set and evaluating it on the Test Set."
   ]
  },
  {
   "cell_type": "markdown",
   "metadata": {},
   "source": [
    "# Compiling the CNN"
   ]
  },
  {
   "cell_type": "code",
   "execution_count": 12,
   "metadata": {},
   "outputs": [
    {
     "name": "stdout",
     "output_type": "stream",
     "text": [
      "WARNING:tensorflow:From /home/rodrigo/anaconda3/envs/cuda/lib/python3.7/site-packages/tensorflow/python/ops/nn_impl.py:180: add_dispatch_support.<locals>.wrapper (from tensorflow.python.ops.array_ops) is deprecated and will be removed in a future version.\n",
      "Instructions for updating:\n",
      "Use tf.where in 2.0, which has the same broadcast rule as np.where\n"
     ]
    }
   ],
   "source": [
    "cnn.compile(optimizer = 'adam', loss = 'binary_crossentropy', metrics = ['accuracy'])"
   ]
  },
  {
   "cell_type": "code",
   "execution_count": 13,
   "metadata": {},
   "outputs": [],
   "source": [
    "es = tf.keras.callbacks.EarlyStopping(monitor='val_loss', mode = 'min', verbose = 2, patience = 10)"
   ]
  },
  {
   "cell_type": "code",
   "execution_count": 14,
   "metadata": {},
   "outputs": [],
   "source": [
    "my_callbacks = [es]"
   ]
  },
  {
   "cell_type": "code",
   "execution_count": 25,
   "metadata": {
    "scrolled": true
   },
   "outputs": [
    {
     "name": "stdout",
     "output_type": "stream",
     "text": [
      "Epoch 1/50\n",
      "449/547 [=======================>......] - ETA: 11s - loss: 0.3618 - acc: 0.8355"
     ]
    },
    {
     "name": "stderr",
     "output_type": "stream",
     "text": [
      "/home/rodrigo/anaconda3/envs/cuda/lib/python3.7/site-packages/PIL/TiffImagePlugin.py:766: UserWarning: Possibly corrupt EXIF data.  Expecting to read 32 bytes but only got 0. Skipping tag 270\n",
      "  \" Skipping tag %s\" % (size, len(data), tag)\n",
      "/home/rodrigo/anaconda3/envs/cuda/lib/python3.7/site-packages/PIL/TiffImagePlugin.py:766: UserWarning: Possibly corrupt EXIF data.  Expecting to read 5 bytes but only got 0. Skipping tag 271\n",
      "  \" Skipping tag %s\" % (size, len(data), tag)\n",
      "/home/rodrigo/anaconda3/envs/cuda/lib/python3.7/site-packages/PIL/TiffImagePlugin.py:766: UserWarning: Possibly corrupt EXIF data.  Expecting to read 8 bytes but only got 0. Skipping tag 272\n",
      "  \" Skipping tag %s\" % (size, len(data), tag)\n",
      "/home/rodrigo/anaconda3/envs/cuda/lib/python3.7/site-packages/PIL/TiffImagePlugin.py:766: UserWarning: Possibly corrupt EXIF data.  Expecting to read 8 bytes but only got 0. Skipping tag 282\n",
      "  \" Skipping tag %s\" % (size, len(data), tag)\n",
      "/home/rodrigo/anaconda3/envs/cuda/lib/python3.7/site-packages/PIL/TiffImagePlugin.py:766: UserWarning: Possibly corrupt EXIF data.  Expecting to read 8 bytes but only got 0. Skipping tag 283\n",
      "  \" Skipping tag %s\" % (size, len(data), tag)\n",
      "/home/rodrigo/anaconda3/envs/cuda/lib/python3.7/site-packages/PIL/TiffImagePlugin.py:766: UserWarning: Possibly corrupt EXIF data.  Expecting to read 20 bytes but only got 0. Skipping tag 306\n",
      "  \" Skipping tag %s\" % (size, len(data), tag)\n",
      "/home/rodrigo/anaconda3/envs/cuda/lib/python3.7/site-packages/PIL/TiffImagePlugin.py:766: UserWarning: Possibly corrupt EXIF data.  Expecting to read 48 bytes but only got 0. Skipping tag 532\n",
      "  \" Skipping tag %s\" % (size, len(data), tag)\n",
      "/home/rodrigo/anaconda3/envs/cuda/lib/python3.7/site-packages/PIL/TiffImagePlugin.py:785: UserWarning: Corrupt EXIF data.  Expecting to read 2 bytes but only got 0. \n",
      "  warnings.warn(str(msg))\n"
     ]
    },
    {
     "name": "stdout",
     "output_type": "stream",
     "text": [
      "547/547 [==============================] - 77s 140ms/step - loss: 0.3657 - acc: 0.8347 - val_loss: 0.3683 - val_acc: 0.8340\n",
      "Epoch 2/50\n",
      "547/547 [==============================] - 77s 142ms/step - loss: 0.3612 - acc: 0.8388 - val_loss: 0.3856 - val_acc: 0.8273\n",
      "Epoch 3/50\n",
      "547/547 [==============================] - 77s 141ms/step - loss: 0.3641 - acc: 0.8358 - val_loss: 0.3594 - val_acc: 0.8418\n",
      "Epoch 4/50\n",
      "547/547 [==============================] - 77s 141ms/step - loss: 0.3616 - acc: 0.8366 - val_loss: 0.3451 - val_acc: 0.8482\n",
      "Epoch 5/50\n",
      "547/547 [==============================] - 77s 141ms/step - loss: 0.3600 - acc: 0.8363 - val_loss: 0.3988 - val_acc: 0.8292\n",
      "Epoch 6/50\n",
      "547/547 [==============================] - 78s 142ms/step - loss: 0.3589 - acc: 0.8428 - val_loss: 0.3573 - val_acc: 0.8438\n",
      "Epoch 7/50\n",
      "547/547 [==============================] - 79s 144ms/step - loss: 0.3594 - acc: 0.8368 - val_loss: 0.3950 - val_acc: 0.8329\n",
      "Epoch 8/50\n",
      "547/547 [==============================] - 83s 152ms/step - loss: 0.3604 - acc: 0.8395 - val_loss: 0.3509 - val_acc: 0.8490\n",
      "Epoch 9/50\n",
      "547/547 [==============================] - 106s 194ms/step - loss: 0.3535 - acc: 0.8377 - val_loss: 0.3784 - val_acc: 0.8344\n",
      "Epoch 10/50\n",
      "547/547 [==============================] - 99s 182ms/step - loss: 0.3546 - acc: 0.8406 - val_loss: 0.3625 - val_acc: 0.8469\n",
      "Epoch 11/50\n",
      "547/547 [==============================] - 101s 185ms/step - loss: 0.3546 - acc: 0.8409 - val_loss: 0.3273 - val_acc: 0.8642\n",
      "Epoch 12/50\n",
      "547/547 [==============================] - 100s 183ms/step - loss: 0.3471 - acc: 0.8444 - val_loss: 0.3831 - val_acc: 0.8310\n",
      "Epoch 13/50\n",
      "547/547 [==============================] - 96s 176ms/step - loss: 0.3550 - acc: 0.8387 - val_loss: 0.4016 - val_acc: 0.8209\n",
      "Epoch 14/50\n",
      "547/547 [==============================] - 105s 191ms/step - loss: 0.3487 - acc: 0.8413 - val_loss: 0.3827 - val_acc: 0.8338\n",
      "Epoch 15/50\n",
      "547/547 [==============================] - 102s 186ms/step - loss: 0.3467 - acc: 0.8470 - val_loss: 0.3466 - val_acc: 0.8488\n",
      "Epoch 16/50\n",
      "547/547 [==============================] - 99s 182ms/step - loss: 0.3495 - acc: 0.8436 - val_loss: 0.3392 - val_acc: 0.8545\n",
      "Epoch 17/50\n",
      "547/547 [==============================] - 97s 178ms/step - loss: 0.3451 - acc: 0.8467 - val_loss: 0.3232 - val_acc: 0.8652\n",
      "Epoch 18/50\n",
      "547/547 [==============================] - 101s 185ms/step - loss: 0.3424 - acc: 0.8478 - val_loss: 0.3514 - val_acc: 0.8494\n",
      "Epoch 19/50\n",
      "547/547 [==============================] - 98s 180ms/step - loss: 0.3426 - acc: 0.8486 - val_loss: 0.3773 - val_acc: 0.8374\n",
      "Epoch 20/50\n",
      "547/547 [==============================] - 101s 184ms/step - loss: 0.3427 - acc: 0.8484 - val_loss: 0.3377 - val_acc: 0.8553\n",
      "Epoch 21/50\n",
      "547/547 [==============================] - 97s 177ms/step - loss: 0.3414 - acc: 0.8467 - val_loss: 0.3523 - val_acc: 0.8480\n",
      "Epoch 22/50\n",
      "547/547 [==============================] - 98s 178ms/step - loss: 0.3406 - acc: 0.8502 - val_loss: 0.3397 - val_acc: 0.8548\n",
      "Epoch 23/50\n",
      "547/547 [==============================] - 97s 178ms/step - loss: 0.3430 - acc: 0.8458 - val_loss: 0.3374 - val_acc: 0.8588\n",
      "Epoch 24/50\n",
      "547/547 [==============================] - 97s 178ms/step - loss: 0.3382 - acc: 0.8511 - val_loss: 0.3214 - val_acc: 0.8668\n",
      "Epoch 25/50\n",
      "547/547 [==============================] - 97s 178ms/step - loss: 0.3441 - acc: 0.8455 - val_loss: 0.3585 - val_acc: 0.8426\n",
      "Epoch 26/50\n",
      "547/547 [==============================] - 96s 176ms/step - loss: 0.3408 - acc: 0.8482 - val_loss: 0.3446 - val_acc: 0.8498\n",
      "Epoch 27/50\n",
      "547/547 [==============================] - 97s 177ms/step - loss: 0.3372 - acc: 0.8499 - val_loss: 0.3303 - val_acc: 0.8570\n",
      "Epoch 28/50\n",
      "547/547 [==============================] - 97s 177ms/step - loss: 0.3378 - acc: 0.8484 - val_loss: 0.3171 - val_acc: 0.8641\n",
      "Epoch 29/50\n",
      "547/547 [==============================] - 97s 177ms/step - loss: 0.3342 - acc: 0.8502 - val_loss: 0.3684 - val_acc: 0.8369\n",
      "Epoch 30/50\n",
      "547/547 [==============================] - 100s 182ms/step - loss: 0.3383 - acc: 0.8495 - val_loss: 0.3092 - val_acc: 0.8677\n",
      "Epoch 31/50\n",
      "547/547 [==============================] - 97s 178ms/step - loss: 0.3335 - acc: 0.8514 - val_loss: 0.3476 - val_acc: 0.8501\n",
      "Epoch 32/50\n",
      "547/547 [==============================] - 97s 177ms/step - loss: 0.3282 - acc: 0.8537 - val_loss: 0.3118 - val_acc: 0.8704\n",
      "Epoch 33/50\n",
      "547/547 [==============================] - 97s 177ms/step - loss: 0.3307 - acc: 0.8547 - val_loss: 0.3682 - val_acc: 0.8422\n",
      "Epoch 34/50\n",
      "547/547 [==============================] - 98s 179ms/step - loss: 0.3305 - acc: 0.8542 - val_loss: 0.3026 - val_acc: 0.8742\n",
      "Epoch 35/50\n",
      "547/547 [==============================] - 97s 178ms/step - loss: 0.3304 - acc: 0.8540 - val_loss: 0.3391 - val_acc: 0.8556\n",
      "Epoch 36/50\n",
      "547/547 [==============================] - 97s 177ms/step - loss: 0.3292 - acc: 0.8554 - val_loss: 0.3373 - val_acc: 0.8598\n",
      "Epoch 37/50\n",
      "547/547 [==============================] - 97s 177ms/step - loss: 0.3322 - acc: 0.8530 - val_loss: 0.3366 - val_acc: 0.8549\n",
      "Epoch 38/50\n",
      "547/547 [==============================] - 97s 178ms/step - loss: 0.3280 - acc: 0.8556 - val_loss: 0.3107 - val_acc: 0.8681\n",
      "Epoch 39/50\n",
      "547/547 [==============================] - 97s 178ms/step - loss: 0.3279 - acc: 0.8546 - val_loss: 0.3212 - val_acc: 0.8669\n",
      "Epoch 40/50\n",
      "547/547 [==============================] - 97s 177ms/step - loss: 0.3305 - acc: 0.8556 - val_loss: 0.3426 - val_acc: 0.8549\n",
      "Epoch 41/50\n",
      "547/547 [==============================] - 97s 178ms/step - loss: 0.3227 - acc: 0.8573 - val_loss: 0.3508 - val_acc: 0.8492\n",
      "Epoch 42/50\n",
      "547/547 [==============================] - 97s 177ms/step - loss: 0.3315 - acc: 0.8527 - val_loss: 0.3749 - val_acc: 0.8436\n",
      "Epoch 43/50\n",
      "547/547 [==============================] - 97s 177ms/step - loss: 0.3295 - acc: 0.8544 - val_loss: 0.3090 - val_acc: 0.8701\n",
      "Epoch 44/50\n",
      "547/547 [==============================] - 96s 176ms/step - loss: 0.3242 - acc: 0.8559 - val_loss: 0.3279 - val_acc: 0.8597\n",
      "Epoch 00044: early stopping\n"
     ]
    }
   ],
   "source": [
    "history = cnn.fit(x = training_set, validation_data = test_set, epochs = 50, verbose = 1, callbacks = my_callbacks)"
   ]
  },
  {
   "cell_type": "markdown",
   "metadata": {},
   "source": [
    "# Saving the model\n",
    "#Saving the model to use in the API."
   ]
  },
  {
   "cell_type": "code",
   "execution_count": 26,
   "metadata": {},
   "outputs": [],
   "source": [
    "from tensorflow.keras.models import load_model\n",
    "cnn.save(\"/home/rodrigo/Roit/Teste/teste_roit_corrigido/model.h5\")"
   ]
  },
  {
   "cell_type": "markdown",
   "metadata": {},
   "source": [
    "# -Making a Single Prediction\n",
    "#Making a single prediction to test the model in production, deploying the cnn on two different images (a cat and a dog) to see if the cnn can recognize them correctly."
   ]
  },
  {
   "cell_type": "code",
   "execution_count": 27,
   "metadata": {},
   "outputs": [],
   "source": [
    "import numpy as np\n",
    "import pandas as pd \n",
    "import matplotlib.pyplot as plt\n",
    "import matplotlib.image as mpimg\n",
    "%matplotlib inline"
   ]
  },
  {
   "cell_type": "code",
   "execution_count": 28,
   "metadata": {},
   "outputs": [
    {
     "data": {
      "image/png": "[encoded data removed]",
      "text/plain": [
       "<Figure size 432x288 with 1 Axes>"
      ]
     },
     "metadata": {
      "needs_background": "light"
     },
     "output_type": "display_data"
    },
    {
     "data": {
      "text/plain": [
       "<Figure size 432x288 with 0 Axes>"
      ]
     },
     "metadata": {},
     "output_type": "display_data"
    }
   ],
   "source": [
    "acc = history.history['acc']\n",
    "val_acc = history.history['val_acc']\n",
    "loss = history.history['loss']\n",
    "val_loss = history.history['val_loss']\n",
    "\n",
    "epochs = range(len(acc))\n",
    "\n",
    "plt.plot(epochs, acc, 'r', label = 'training accuracy')\n",
    "plt.plot(epochs, val_acc, 'b', label = 'validation accuracy')\n",
    "plt.title('training and validation accuracy')\n",
    "plt.legend(loc=0)\n",
    "plt.figure()\n",
    "\n",
    "plt.show()"
   ]
  },
  {
   "cell_type": "code",
   "execution_count": 59,
   "metadata": {},
   "outputs": [
    {
     "name": "stdout",
     "output_type": "stream",
     "text": [
      "This image is 0.00 percent cat and 100.00 percent dog.\n"
     ]
    }
   ],
   "source": [
    "test_image = image.load_img('/home/rodrigo/Roit/Teste/teste_roit_corrigido/predictions/dg8.jpg', target_size = (64, 64))\n",
    "test_image = image.img_to_array(test_image)\n",
    "test_image = np.expand_dims(test_image, axis = 0)\n",
    "result = cnn.predict(test_image)\n",
    "training_set.class_indices\n",
    "score = result[0]\n",
    "if result[0][0] == 1:\n",
    "    prediction = 'dog'\n",
    "else:\n",
    "    prediction = 'cat'\n",
    "print(\n",
    "    \"This image is %.2f percent cat and %.2f percent dog.\"\n",
    "    % (100 * (1 - score), 100 * score)\n",
    ")"
   ]
  },
  {
   "cell_type": "code",
   "execution_count": 57,
   "metadata": {},
   "outputs": [
    {
     "name": "stdout",
     "output_type": "stream",
     "text": [
      "dog\n"
     ]
    }
   ],
   "source": [
    "print(prediction)"
   ]
  },
  {
   "cell_type": "code",
   "execution_count": 43,
   "metadata": {},
   "outputs": [],
   "source": [
    "test_image2 = image.load_img('/home/rodrigo/Roit/Teste/teste_roit_corrigido/predictions/dg3.jpg', target_size = (64, 64))\n",
    "test_image2 = image.img_to_array(test_image2)\n",
    "test_image2 = np.expand_dims(test_image2, axis = 0)\n",
    "result = cnn.predict(test_image2)\n",
    "training_set.class_indices\n",
    "if result[0][0] == 1:\n",
    "    prediction = 'dog'\n",
    "else:\n",
    "    prediction = 'cat'"
   ]
  },
  {
   "cell_type": "code",
   "execution_count": 44,
   "metadata": {},
   "outputs": [
    {
     "name": "stdout",
     "output_type": "stream",
     "text": [
      "dog\n"
     ]
    }
   ],
   "source": [
    "print(prediction)"
   ]
  },
  {
   "cell_type": "code",
   "execution_count": 42,
   "metadata": {},
   "outputs": [
    {
     "name": "stdout",
     "output_type": "stream",
     "text": [
      "This image is 100.00 percent cat and 0.00 percent dog.\n"
     ]
    }
   ],
   "source": [
    "print(\n",
    "    \"This image is %.2f percent cat and %.2f percent dog.\"\n",
    "    % (100 * (1 - score), 100 * score)\n",
    ")"
   ]
  },
  {
   "cell_type": "code",
   "execution_count": null,
   "metadata": {},
   "outputs": [],
   "source": []
  }
 ],
 "metadata": {
  "kernelspec": {
   "display_name": "Python 3",
   "language": "python",
   "name": "python3"
  },
  "language_info": {
   "codemirror_mode": {
    "name": "ipython",
    "version": 3
   },
   "file_extension": ".py",
   "mimetype": "text/x-python",
   "name": "python",
   "nbconvert_exporter": "python",
   "pygments_lexer": "ipython3",
   "version": "3.7.7"
  }
 },
 "nbformat": 4,
 "nbformat_minor": 4
}
